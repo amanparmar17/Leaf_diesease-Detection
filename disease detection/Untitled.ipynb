{
 "cells": [
  {
   "cell_type": "code",
   "execution_count": 1,
   "metadata": {},
   "outputs": [
    {
     "name": "stdout",
     "output_type": "stream",
     "text": [
      "aman\n"
     ]
    }
   ],
   "source": [
    "print(\"aman\")"
   ]
  },
  {
   "cell_type": "code",
   "execution_count": 2,
   "metadata": {},
   "outputs": [
    {
     "name": "stdout",
     "output_type": "stream",
     "text": [
      "5430\n",
      "43477\n",
      "5398\n"
     ]
    }
   ],
   "source": [
    "# validation set 1%\n",
    "# train set 60%\n",
    "# test set 40%\n",
    "\n",
    "data=0\n",
    "datab=0\n",
    "datac=0\n",
    "with open(\"/home/aman/git_repos/Leaf-Identification/dataset_main/plantvillage_deeplearning_paper_dataset/80-20/valid.txt\") as f:\n",
    "    data=f.readlines()\n",
    "    print(len(data))\n",
    "    \n",
    "with open(\"/home/aman/git_repos/Leaf-Identification/dataset_main/plantvillage_deeplearning_paper_dataset/80-20/train.txt\") as f:\n",
    "    datab=f.readlines()\n",
    "    print(len(datab))\n",
    "\n",
    "    \n",
    "with open(\"/home/aman/git_repos/Leaf-Identification/dataset_main/plantvillage_deeplearning_paper_dataset/80-20/test.txt\") as f:\n",
    "    datac=f.readlines()\n",
    "    print(len(datac))\n",
    "\n",
    "# print(data+datab+datac)"
   ]
  },
  {
   "cell_type": "code",
   "execution_count": 3,
   "metadata": {},
   "outputs": [],
   "source": [
    "import cv2 as cv\n"
   ]
  },
  {
   "cell_type": "code",
   "execution_count": 4,
   "metadata": {},
   "outputs": [
    {
     "data": {
      "text/plain": [
       "'/home/h/Downloads/plantvillage_deeplearning_paper_dataset/color/Tomato___Septoria_leaf_spot/83b691d5-053c-4f0b-9753-d4880dbefc76___JR_Sept.L.S 2513.JPG\\t32\\n'"
      ]
     },
     "execution_count": 4,
     "metadata": {},
     "output_type": "execute_result"
    }
   ],
   "source": [
    "data[0]\n"
   ]
  },
  {
   "cell_type": "code",
   "execution_count": 5,
   "metadata": {},
   "outputs": [
    {
     "data": {
      "text/plain": [
       "-1"
      ]
     },
     "execution_count": 5,
     "metadata": {},
     "output_type": "execute_result"
    }
   ],
   "source": [
    "image=cv.imread(data[0])\n",
    "cv.imwrite(\"first.jpg\",image)\n",
    "cv.waitKey(0)"
   ]
  },
  {
   "cell_type": "code",
   "execution_count": null,
   "metadata": {},
   "outputs": [],
   "source": [
    "color"
   ]
  },
  {
   "cell_type": "code",
   "execution_count": 7,
   "metadata": {},
   "outputs": [
    {
     "data": {
      "text/plain": [
       "True"
      ]
     },
     "execution_count": 7,
     "metadata": {},
     "output_type": "execute_result"
    }
   ],
   "source": [
    "string =\"/home/aman/git_repos/leaf_detect_major/PlantVillage-Dataset/raw/color/Tomato___Septoria_leaf_spot/83b691d5-053c-4f0b-9753-d4880dbefc76___JR_Sept.L.S 2513.JPG\"\n",
    "ima=cv.imread(string)\n",
    "cv.imwrite(\"image.jpg\",ima)\n",
    "# cv.waitKey(0)"
   ]
  },
  {
   "cell_type": "code",
   "execution_count": null,
   "metadata": {},
   "outputs": [],
   "source": []
  }
 ],
 "metadata": {
  "kernelspec": {
   "display_name": "Python 3",
   "language": "python",
   "name": "python3"
  },
  "language_info": {
   "codemirror_mode": {
    "name": "ipython",
    "version": 3
   },
   "file_extension": ".py",
   "mimetype": "text/x-python",
   "name": "python",
   "nbconvert_exporter": "python",
   "pygments_lexer": "ipython3",
   "version": "3.7.3"
  }
 },
 "nbformat": 4,
 "nbformat_minor": 2
}
